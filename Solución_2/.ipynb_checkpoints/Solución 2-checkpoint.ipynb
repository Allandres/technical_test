{
 "cells": [
  {
   "cell_type": "code",
   "execution_count": 3,
   "id": "2f90e143",
   "metadata": {},
   "outputs": [],
   "source": [
    "#Se importan las librerías\n",
    "import os\n",
    "import pandas as pd\n",
    "#Se asigna ruta a variable Path\n",
    "os.getcwd()\n",
    "path = os.getcwd()"
   ]
  },
  {
   "cell_type": "code",
   "execution_count": 11,
   "id": "6fa66f22",
   "metadata": {},
   "outputs": [],
   "source": [
    "#Extracción de hojas de excel del archivo \"Pruebas Técnicas.xlsx\"\n",
    "df_cntr_Frmt = pd.read_excel(\"Prueba Técnica.xlsx\",\"Country_Format\")\n",
    "df_stores = pd.read_excel(\"Prueba Técnica.xlsx\",\"Stores\")\n",
    "df_sale = pd.read_excel(\"Prueba Técnica.xlsx\",\"Sales\")\n",
    "df_sales_plan = pd.read_excel(\"Prueba Técnica.xlsx\",\"Sales_Plan\")"
   ]
  },
  {
   "cell_type": "code",
   "execution_count": 6,
   "id": "3637e873",
   "metadata": {},
   "outputs": [],
   "source": [
    "#Realización de merge entre las tablas según el diagrama de ER indicado\n",
    "df = pd.merge(df_cntr_Frmt,df_stores, on=['Country_Format'],how='inner')\n",
    "df = pd.merge(df,df_sale, on=['Store_Code'],how='inner')\n",
    "df = pd.merge(df,df_sales_plan, on=['Country_Format'],how='inner')"
   ]
  },
  {
   "cell_type": "code",
   "execution_count": 12,
   "id": "8131e335",
   "metadata": {
    "scrolled": true
   },
   "outputs": [],
   "source": [
    "#Se realiza el calculo de la columnas solicitadas y se crean cómo columnas en el dataset\n",
    "Unidades_Promedio = df[\"Quantity\"]/df[\"Transactions\"]\n",
    "Transaccion_Promedio = df[\"Sales\"]/df[\"Transactions\"]\n",
    "Precio_Promedio =  df[\"Sales\"]/df[\"Quantity\"]\n",
    "Alcance_al_Plan = 1- ((df[\"Sales_Plan\"]-df[\"Sales\"])/df[\"Sales\"])\n",
    "df[\"Unidades_Promedio\"] = Unidades_Promedio\n",
    "df[\"Transaccion_Promedio\"] = Transaccion_Promedio\n",
    "df[\"Precio_Promedio\"] = Precio_Promedio\n",
    "df[\"Alcance_al_Plan\"] = Alcance_al_Plan\n"
   ]
  },
  {
   "cell_type": "code",
   "execution_count": 8,
   "id": "43b1220a",
   "metadata": {},
   "outputs": [],
   "source": [
    "#Se crean los dataframe con las columnas especificas que se requieren para cada tabla\n",
    "table_1 = df[['Country_Name', 'Format_Name', 'Store_Code', 'Store_Name', 'Date_x', 'Unidades_Promedio', 'Transaccion_Promedio', 'Precio_Promedio']]\n",
    "table_1 = pd.DataFrame(table_1)\n",
    "table_1.rename(columns = {'Country_Name': 'Pais', \n",
    "                        'Format_Name': 'Formato',\n",
    "                        'Store_Code': 'Numero_de_Tienda',\n",
    "                        'Store_Name': 'Nombre_de_la_Tienda',\n",
    "                        'Date_x': 'Fecha'\n",
    "                      },inplace=True)\n",
    "\n",
    "table_2 = df[['Country_Name', 'Format_Name','Date_y', 'Alcance_al_Plan']]\n",
    "table_2 = pd.DataFrame(table_2)\n",
    "table_2.rename(columns = {'Country_Name': 'Pais', \n",
    "                        'Format_Name': 'Formato',\n",
    "                        'Date_y': 'Fecha'\n",
    "                      },inplace=True)\n"
   ]
  },
  {
   "cell_type": "code",
   "execution_count": 9,
   "id": "0c58ea34",
   "metadata": {},
   "outputs": [],
   "source": [
    "#Se almacena en excel la primera tabla\n",
    "table_1.to_excel('tabla_1.xlsx')"
   ]
  },
  {
   "cell_type": "code",
   "execution_count": 10,
   "id": "b7effc14",
   "metadata": {},
   "outputs": [],
   "source": [
    "#Se almacena en excel la segunda tabla\n",
    "table_2.to_excel('tabla_2.xlsx')"
   ]
  }
 ],
 "metadata": {
  "kernelspec": {
   "display_name": "Python 3 (ipykernel)",
   "language": "python",
   "name": "python3"
  },
  "language_info": {
   "codemirror_mode": {
    "name": "ipython",
    "version": 3
   },
   "file_extension": ".py",
   "mimetype": "text/x-python",
   "name": "python",
   "nbconvert_exporter": "python",
   "pygments_lexer": "ipython3",
   "version": "3.10.5"
  }
 },
 "nbformat": 4,
 "nbformat_minor": 5
}
